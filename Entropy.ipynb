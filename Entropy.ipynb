{
  "nbformat": 4,
  "nbformat_minor": 0,
  "metadata": {
    "colab": {
      "name": "Entropy.ipynb",
      "provenance": [],
      "collapsed_sections": [],
      "toc_visible": true,
      "include_colab_link": true
    },
    "kernelspec": {
      "display_name": "Python 3",
      "language": "python",
      "name": "python3"
    },
    "language_info": {
      "codemirror_mode": {
        "name": "ipython",
        "version": 3
      },
      "file_extension": ".py",
      "mimetype": "text/x-python",
      "name": "python",
      "nbconvert_exporter": "python",
      "pygments_lexer": "ipython3",
      "version": "3.8.8"
    }
  },
  "cells": [
    {
      "cell_type": "markdown",
      "metadata": {
        "id": "view-in-github",
        "colab_type": "text"
      },
      "source": [
        "<a href=\"https://colab.research.google.com/github/zhanghaoyue2020/ECE6233SystemOptimizationMethods/blob/main/Entropy.ipynb\" target=\"_parent\"><img src=\"https://colab.research.google.com/assets/colab-badge.svg\" alt=\"Open In Colab\"/></a>"
      ]
    },
    {
      "cell_type": "markdown",
      "metadata": {
        "id": "ggwq1F3TxNl0"
      },
      "source": [
        "## Coding Problem\n",
        "Consider the entropy maximization problem,\n",
        "  \\begin{align*}\n",
        "    \\text{maximize} \\quad &  f_0(x)=-\\sum_{i=1}^n x_i\\log x_i\\\\\n",
        "    \\text{s.t.}\\quad  &  Ax \\preceq b \\\\\n",
        "    & \\mathbf{1}^Tx = 1\n",
        "  \\end{align*}\n",
        "  where $x\\in\\mathbf{R}^n$. $A\\in\\mathbf{R}^{p\\times n}$ and $b\\in\\mathbf{R}^p$ are provided in the code. \n",
        "  \n",
        "  "
      ]
    },
    {
      "cell_type": "code",
      "metadata": {
        "id": "9Y4fO-g7xNl4"
      },
      "source": [
        "# Initialization\n",
        "import numpy as np\n",
        "np.random.seed(100)\n",
        "# Matrix size parameters.\n",
        "n = 20\n",
        "p = 5\n",
        "# Generate random problem data.\n",
        "A = np.random.uniform(0, 2, size=(p,n))\n",
        "b = 2*np.random.rand(p)"
      ],
      "execution_count": 1,
      "outputs": []
    },
    {
      "cell_type": "markdown",
      "metadata": {
        "id": "cdYJSGlpxNl5"
      },
      "source": [
        "Find the optimal solution of the problem using CVXPY. \\(The objective function can be formulated in CVXPY using entr.)"
      ]
    },
    {
      "cell_type": "code",
      "metadata": {
        "colab": {
          "base_uri": "https://localhost:8080/",
          "height": 0
        },
        "id": "Dbzc9zgkxNl5",
        "outputId": "fcbc91c6-f3aa-40ce-fd64-bdb87e5930d3"
      },
      "source": [
        "# Entropy maximization code\n",
        "import cvxpy as cp\n",
        "import math\n",
        "x = cp.Variable(n)\n",
        "objective = cp.Maximize(cp.sum(cp.entr(x)))\n",
        "constraints = [A @ x <= b, sum(x) ==1]\n",
        "prob = cp.Problem(objective, constraints)\n",
        "prob.solve()"
      ],
      "execution_count": 2,
      "outputs": [
        {
          "output_type": "execute_result",
          "data": {
            "text/plain": [
              "2.7236116466419182"
            ]
          },
          "metadata": {},
          "execution_count": 2
        }
      ]
    },
    {
      "cell_type": "markdown",
      "metadata": {
        "id": "n8Us3K-XxNl6"
      },
      "source": [
        "Print your optimal solution $x^*$ and the optimal value of the objective function $f_0(x^*)$"
      ]
    },
    {
      "cell_type": "code",
      "metadata": {
        "colab": {
          "base_uri": "https://localhost:8080/",
          "height": 0
        },
        "id": "fxPHcS-RxNl6",
        "outputId": "06fb1cde-2c36-484c-92bc-fea3a2716238"
      },
      "source": [
        "# Print your results\n",
        "print(\"The optimal solution x* = \", x.value)\n",
        "print(\"The optimal value of the objective function f0(x*) = \", prob.value)"
      ],
      "execution_count": 3,
      "outputs": [
        {
          "output_type": "stream",
          "name": "stdout",
          "text": [
            "The optimal solution x* =  [0.05295172 0.02651843 0.02355288 0.11166753 0.00892428 0.008574\n",
            " 0.02572673 0.05104014 0.05520759 0.09168414 0.07275399 0.0801274\n",
            " 0.10114002 0.00803762 0.00828776 0.02608435 0.01704009 0.05937773\n",
            " 0.1312279  0.04007571]\n",
            "The optimal value of the objective function f0(x*) =  2.7236116466419182\n"
          ]
        }
      ]
    }
  ]
}