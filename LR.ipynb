{
  "nbformat": 4,
  "nbformat_minor": 0,
  "metadata": {
    "kernelspec": {
      "display_name": "Python 3",
      "language": "python",
      "name": "python3"
    },
    "language_info": {
      "codemirror_mode": {
        "name": "ipython",
        "version": 3
      },
      "file_extension": ".py",
      "mimetype": "text/x-python",
      "name": "python",
      "nbconvert_exporter": "python",
      "pygments_lexer": "ipython3",
      "version": "3.8.5"
    },
    "colab": {
      "name": "LR.ipynb",
      "provenance": []
    }
  },
  "cells": [
    {
      "cell_type": "markdown",
      "metadata": {
        "id": "i34iUlSoFHII"
      },
      "source": [
        "## Coding Problem\n",
        "<br>\n",
        "In this problem you will analyze data using the linear regression. The goal of the problem is to predict the miles per gallon a car will get using six quantities (features) about that car. The data is broken into training and testing sets. Each row in both “X” files contain six features for a single car (plus a 1 in the last dimension) and the same row in the corresponding “y” file contains the miles per gallon for that car.\n",
        "<br>\n"
      ]
    },
    {
      "cell_type": "markdown",
      "metadata": {
        "id": "DxnK2HdDFHIJ"
      },
      "source": [
        "See https://archive.ics.uci.edu/ml/datasets/Auto+MPG for more details on this dataset. We will use the 2nd to 7th features to predict the 1st attribute in the data set. The data has been preprocessed, thus you must use the data provided with this homework."
      ]
    },
    {
      "cell_type": "markdown",
      "metadata": {
        "id": "yHgDQyULFHIK"
      },
      "source": [
        "### Training Part\n",
        "\n",
        "Using the training data only, write code to solve the linear regression problem\n",
        "\n",
        "$$\n",
        "\\min_{\\omega} \\mathcal{L}=\t\\sum_{i=1}^{N_{train}}\\|y_i-x_i\\omega\\|^2=(Y-X\\omega)^T(Y-X\\omega)\n",
        "$$"
      ]
    },
    {
      "cell_type": "code",
      "metadata": {
        "id": "uw38caONFHIK",
        "outputId": "dd975971-b931-4c36-f7d3-c0d1ad3e85f2",
        "colab": {
          "base_uri": "https://localhost:8080/",
          "height": 206
        }
      },
      "source": [
        "# Load training data from X_train.csv and Y_train.csv\n",
        "import pandas as pd\n",
        "df_Xtr = pd.read_csv('https://raw.githubusercontent.com/zhanghaoyue2020/ECE6233SystemOptimizationMethods/main/X_train.csv',header=None)\n",
        "df_ytr = pd.read_csv('https://raw.githubusercontent.com/zhanghaoyue2020/ECE6233SystemOptimizationMethods/main/y_train.csv',header=None)\n",
        "df_Xtr.head()"
      ],
      "execution_count": 1,
      "outputs": [
        {
          "output_type": "execute_result",
          "data": {
            "text/html": [
              "<div>\n",
              "<style scoped>\n",
              "    .dataframe tbody tr th:only-of-type {\n",
              "        vertical-align: middle;\n",
              "    }\n",
              "\n",
              "    .dataframe tbody tr th {\n",
              "        vertical-align: top;\n",
              "    }\n",
              "\n",
              "    .dataframe thead th {\n",
              "        text-align: right;\n",
              "    }\n",
              "</style>\n",
              "<table border=\"1\" class=\"dataframe\">\n",
              "  <thead>\n",
              "    <tr style=\"text-align: right;\">\n",
              "      <th></th>\n",
              "      <th>0</th>\n",
              "      <th>1</th>\n",
              "      <th>2</th>\n",
              "      <th>3</th>\n",
              "      <th>4</th>\n",
              "      <th>5</th>\n",
              "      <th>6</th>\n",
              "    </tr>\n",
              "  </thead>\n",
              "  <tbody>\n",
              "    <tr>\n",
              "      <th>0</th>\n",
              "      <td>0.30957</td>\n",
              "      <td>-0.36707</td>\n",
              "      <td>0.45545</td>\n",
              "      <td>-0.200830</td>\n",
              "      <td>-0.73992</td>\n",
              "      <td>-0.80885</td>\n",
              "      <td>1</td>\n",
              "    </tr>\n",
              "    <tr>\n",
              "      <th>1</th>\n",
              "      <td>0.30957</td>\n",
              "      <td>0.35920</td>\n",
              "      <td>-0.11611</td>\n",
              "      <td>-0.038361</td>\n",
              "      <td>0.16625</td>\n",
              "      <td>-0.80885</td>\n",
              "      <td>1</td>\n",
              "    </tr>\n",
              "    <tr>\n",
              "      <th>2</th>\n",
              "      <td>-0.86291</td>\n",
              "      <td>-0.99778</td>\n",
              "      <td>-0.89551</td>\n",
              "      <td>-1.225100</td>\n",
              "      <td>-0.55868</td>\n",
              "      <td>-0.26592</td>\n",
              "      <td>1</td>\n",
              "    </tr>\n",
              "    <tr>\n",
              "      <th>3</th>\n",
              "      <td>-0.86291</td>\n",
              "      <td>-0.69198</td>\n",
              "      <td>-0.42787</td>\n",
              "      <td>-0.562260</td>\n",
              "      <td>-0.15997</td>\n",
              "      <td>1.09140</td>\n",
              "      <td>1</td>\n",
              "    </tr>\n",
              "    <tr>\n",
              "      <th>4</th>\n",
              "      <td>-0.86291</td>\n",
              "      <td>-0.92133</td>\n",
              "      <td>-0.63571</td>\n",
              "      <td>-1.251000</td>\n",
              "      <td>-0.41369</td>\n",
              "      <td>0.81993</td>\n",
              "      <td>1</td>\n",
              "    </tr>\n",
              "  </tbody>\n",
              "</table>\n",
              "</div>"
            ],
            "text/plain": [
              "         0        1        2         3        4        5  6\n",
              "0  0.30957 -0.36707  0.45545 -0.200830 -0.73992 -0.80885  1\n",
              "1  0.30957  0.35920 -0.11611 -0.038361  0.16625 -0.80885  1\n",
              "2 -0.86291 -0.99778 -0.89551 -1.225100 -0.55868 -0.26592  1\n",
              "3 -0.86291 -0.69198 -0.42787 -0.562260 -0.15997  1.09140  1\n",
              "4 -0.86291 -0.92133 -0.63571 -1.251000 -0.41369  0.81993  1"
            ]
          },
          "metadata": {},
          "execution_count": 1
        }
      ]
    },
    {
      "cell_type": "code",
      "metadata": {
        "id": "NiuAL65CFHIL",
        "outputId": "e47442ff-325a-49c9-a988-4585764dc63b",
        "colab": {
          "base_uri": "https://localhost:8080/",
          "height": 0
        }
      },
      "source": [
        "# Compute the vector omega and print your result\n",
        "import numpy as np\n",
        "A = np.array(df_Xtr)\n",
        "ytr = np.array(df_ytr)\n",
        "beta = np.linalg.inv(A.T.dot(A)).dot(A.T.dot(ytr))\n",
        "print(beta)"
      ],
      "execution_count": 2,
      "outputs": [
        {
          "output_type": "stream",
          "name": "stdout",
          "text": [
            "[[-0.45626139]\n",
            " [ 0.7301673 ]\n",
            " [-0.28461867]\n",
            " [-5.58558944]\n",
            " [ 0.28957774]\n",
            " [ 2.78139798]\n",
            " [ 0.01015709]]\n"
          ]
        }
      ]
    },
    {
      "cell_type": "markdown",
      "metadata": {
        "id": "Yed4mp4MFHIL"
      },
      "source": [
        "<br>\n",
        "3. By learning the vector $\\omega$, we an predict the value $y_i$ in the testing set using $x_i$, as\n",
        "<br>\n",
        "\\begin{align*}\n",
        "    y^{pred}_i = \\omega_1 x_{i1} + \\omega_2 x_{i2} + \\dots + \\omega_6 x_{i6} + \\omega_0= x_i\\omega\n",
        "\\end{align*}\n",
        "\n",
        "Using only the testing data. Compute the root mean squared error (RMSE) between the predicted value $y^{pred}$ and the real value $y^{test}$.\n",
        "\n",
        "$$\n",
        "RMSE = \\sqrt{\\frac{1}{N_{test}}\\sum_{i=1}^{N_{test}}(y_i^{pred}-y_i^{test})}\n",
        "$$\n"
      ]
    },
    {
      "cell_type": "code",
      "metadata": {
        "id": "qlAV4zyfFHIL"
      },
      "source": [
        "# Load testing data from X_test.csv and Y_test.csv\n",
        "import cmath\n",
        "df_Xts = pd.read_csv('https://raw.githubusercontent.com/zhanghaoyue2020/ECE6233SystemOptimizationMethods/main/X_test.csv',header=None)\n",
        "df_yts = pd.read_csv('https://raw.githubusercontent.com/zhanghaoyue2020/ECE6233SystemOptimizationMethods/main/y_test.csv',header=None)"
      ],
      "execution_count": 3,
      "outputs": []
    },
    {
      "cell_type": "code",
      "metadata": {
        "id": "rVjTDU7GFHIL",
        "outputId": "c310b4e4-0f88-4a58-e3a8-76b1bfc5fe25",
        "colab": {
          "base_uri": "https://localhost:8080/",
          "height": 0
        }
      },
      "source": [
        "# Compute the RMSE and print the result\n",
        "A = np.array(df_Xts)\n",
        "yts = np.array(df_yts)\n",
        "yts_pred = A@beta\n",
        "RMSE = cmath.sqrt(np.mean(yts_pred - yts))\n",
        "print(RMSE)"
      ],
      "execution_count": 4,
      "outputs": [
        {
          "output_type": "stream",
          "name": "stdout",
          "text": [
            "(0.30802992868226814+0j)\n"
          ]
        }
      ]
    }
  ]
}