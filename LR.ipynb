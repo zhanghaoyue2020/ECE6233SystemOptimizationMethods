{
 "cells": [
  {
   "cell_type": "markdown",
   "metadata": {},
   "source": [
    "## Coding Problem\n",
    "<br>\n",
    "In this problem you will analyze data using the linear regression. The goal of the problem is to predict the miles per gallon a car will get using six quantities (features) about that car. The data is broken into training and testing sets. Each row in both “X” files contain six features for a single car (plus a 1 in the last dimension) and the same row in the corresponding “y” file contains the miles per gallon for that car.\n",
    "<br>\n"
   ]
  },
  {
   "cell_type": "markdown",
   "metadata": {},
   "source": [
    "See https://archive.ics.uci.edu/ml/datasets/Auto+MPG for more details on this dataset. We will use the 2nd to 7th features to predict the 1st attribute in the data set. The data has been preprocessed, thus you must use the data provided with this homework."
   ]
  },
  {
   "cell_type": "markdown",
   "metadata": {},
   "source": [
    "### Training Part\n",
    "\n",
    "Using the training data only, write code to solve the linear regression problem\n",
    "\n",
    "$$\n",
    "\\min_{\\omega} \\mathcal{L}=\t\\sum_{i=1}^{N_{train}}\\|y_i-x_i\\omega\\|^2=(Y-X\\omega)^T(Y-X\\omega)\n",
    "$$"
   ]
  },
  {
   "cell_type": "code",
   "execution_count": null,
   "metadata": {},
   "outputs": [],
   "source": [
    "# Load training data from X_train.csv and Y_train.csv\n",
    "\n",
    "\n"
   ]
  },
  {
   "cell_type": "code",
   "execution_count": null,
   "metadata": {},
   "outputs": [],
   "source": [
    "# Compute the vector omega and print your result\n",
    "\n"
   ]
  },
  {
   "cell_type": "markdown",
   "metadata": {},
   "source": [
    "<br>\n",
    "3. By learning the vector $\\omega$, we an predict the value $y_i$ in the testing set using $x_i$, as\n",
    "<br>\n",
    "\\begin{align*}\n",
    "    y^{pred}_i = \\omega_1 x_{i1} + \\omega_2 x_{i2} + \\dots + \\omega_6 x_{i6} + \\omega_0= x_i\\omega\n",
    "\\end{align*}\n",
    "\n",
    "Using only the testing data. Compute the root mean squared error (RMSE) between the predicted value $y^{pred}$ and the real value $y^{test}$.\n",
    "\n",
    "$$\n",
    "RMSE = \\sqrt{\\frac{1}{N_{test}}\\sum_{i=1}^{N_{test}}(y_i^{pred}-y_i^{test})}\n",
    "$$\n"
   ]
  },
  {
   "cell_type": "code",
   "execution_count": null,
   "metadata": {},
   "outputs": [],
   "source": [
    "# Load testing data from X_test.csv and Y_test.csv\n",
    "\n",
    "\n"
   ]
  },
  {
   "cell_type": "code",
   "execution_count": null,
   "metadata": {},
   "outputs": [],
   "source": [
    "# Compute the RMSE and print the result\n",
    "\n",
    "\n"
   ]
  }
 ],
 "metadata": {
  "kernelspec": {
   "display_name": "Python 3",
   "language": "python",
   "name": "python3"
  },
  "language_info": {
   "codemirror_mode": {
    "name": "ipython",
    "version": 3
   },
   "file_extension": ".py",
   "mimetype": "text/x-python",
   "name": "python",
   "nbconvert_exporter": "python",
   "pygments_lexer": "ipython3",
   "version": "3.8.5"
  }
 },
 "nbformat": 4,
 "nbformat_minor": 4
}
