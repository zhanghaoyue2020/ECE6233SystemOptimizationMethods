{
  "nbformat": 4,
  "nbformat_minor": 0,
  "metadata": {
    "kernelspec": {
      "display_name": "Python 3",
      "language": "python",
      "name": "python3"
    },
    "language_info": {
      "codemirror_mode": {
        "name": "ipython",
        "version": 3
      },
      "file_extension": ".py",
      "mimetype": "text/x-python",
      "name": "python",
      "nbconvert_exporter": "python",
      "pygments_lexer": "ipython3",
      "version": "3.8.5"
    },
    "colab": {
      "name": "GD.ipynb",
      "provenance": []
    }
  },
  "cells": [
    {
      "cell_type": "markdown",
      "metadata": {
        "id": "ZsFEIicWsTmx"
      },
      "source": [
        "## Coding Problem\n",
        "<br>\n",
        "Consider the following unconstrained minimization problem\n",
        "$$\n",
        "\\min_{x\\in R^3} f(x) = \\frac{1}{2}x^T Ax + x^T b\n",
        "$$\n",
        "where $A$ and $b$ are defined as\n",
        "$$\n",
        "A = \\begin{bmatrix}\n",
        "2 & -1 & 0\\\\\n",
        "-1 & 2 & -1\\\\\n",
        "0 & -1 & 2\n",
        "\\end{bmatrix}\n",
        "\\qquad \n",
        "b = \\begin{bmatrix}\n",
        "1\\\\ \n",
        "1\\\\ \n",
        "1\n",
        "\\end{bmatrix}\n",
        "$$\n",
        "<br>"
      ]
    },
    {
      "cell_type": "code",
      "metadata": {
        "id": "qSOqsYvJpMxs",
        "colab": {
          "base_uri": "https://localhost:8080/"
        },
        "outputId": "5fb03d65-941d-470a-fb4f-d0f4f130038d"
      },
      "source": [
        "import numpy as np\n",
        "A = np.array([[2,-1,0],\n",
        "              [-1,2,-1],\n",
        "              [0,-1,2]])\n",
        "b = np.array([1,\n",
        "              1,\n",
        "              1])\n",
        "x = -1*(np.linalg.inv(A)).dot(b)\n",
        "y = 1/2 * x.T @ A @ x + x.T @ b\n",
        "print('x* = \\n',x)\n",
        "print('y* = \\n',y)"
      ],
      "execution_count": 1,
      "outputs": [
        {
          "output_type": "stream",
          "name": "stdout",
          "text": [
            "x* = \n",
            " [-1.5 -2.  -1.5]\n",
            "y* = \n",
            " -2.5000000000000004\n"
          ]
        }
      ]
    },
    {
      "cell_type": "markdown",
      "metadata": {
        "id": "PlbaXjGEsTm1"
      },
      "source": [
        "2. Implement the gradient descent method with backtracking line search starting with $x_0=[1,1,1]^T$. Let the maximum iteration number be $50$, $\\alpha=0.25$ and $\\beta=0.1$. Record the function value of each iteration and plot it (x-axis: number of iterations / y-axis: function value of that iteration). </br>"
      ]
    },
    {
      "cell_type": "markdown",
      "metadata": {
        "id": "6Uu_Ctmf3sXj"
      },
      "source": [
        "The backtracking line search\n",
        "if\n",
        "$$\n",
        "f(x+t△x)>f(x)+αt▽f(x)△x\n",
        "$$\n",
        "then we need to update $t$, $t=β×t$\n"
      ]
    },
    {
      "cell_type": "code",
      "metadata": {
        "id": "d1NspYl_sTm1"
      },
      "source": [
        "# Code goes here\n",
        "def f(x,A,b):\n",
        "  f = 0.5 * x.T.dot(A).dot(x)+b.T.dot(x)\n",
        "  return f\n",
        "def f_grad(x,A,b):\n",
        "  f_grad = A.dot(x) + b\n",
        "  return f_grad\n",
        "def backtracking(w0, A, b, nit = 50, alpha = 0.25, beta = 0.1, t =1):\n",
        "  hist = {'w':[],'f':[]}\n",
        "  for i in range(int(nit)):\n",
        "    fgrad = f_grad(w0, A, b)\n",
        "    delta = -fgrad\n",
        "    left = f(w0 + t * delta, A, b)\n",
        "    right = f(w0, A, b) + alpha * t * fgrad.T.dot(delta)\n",
        "    while left > right:\n",
        "      t = beta * t\n",
        "      left = f(w0 + t * delta, A, b)\n",
        "      right = f(w0, A, b) + alpha * t * fgrad.T.dot(delta)\n",
        "    w1 = w0 - t*fgrad\n",
        "    w0 = w1\n",
        "    hist['w'].append(w0)\n",
        "    hist['f'].append(f(w0, A, b))\n",
        "  return hist\n",
        "\n",
        "w0 = np.array([1,\n",
        "               1,\n",
        "               1])\n",
        "hist01 = backtracking(w0, A, b)"
      ],
      "execution_count": 2,
      "outputs": []
    },
    {
      "cell_type": "code",
      "metadata": {
        "id": "MJZyExIXsTm2",
        "outputId": "79cadcfb-5803-4726-b8ac-9434ec394310",
        "colab": {
          "base_uri": "https://localhost:8080/",
          "height": 313
        }
      },
      "source": [
        "# Plot the function value each iteration\n",
        "import matplotlib.pyplot as plt\n",
        "\n",
        "x_axis = np.arange(50)\n",
        "plt.plot(x_axis,hist01['f'])\n",
        "plt.xlabel(\"iteration\")\n",
        "plt.ylabel(\"f(x)\")\n",
        "plt.title(\"batracking line search\")\n",
        "plt.legend(['beta=0.1'])"
      ],
      "execution_count": 3,
      "outputs": [
        {
          "output_type": "execute_result",
          "data": {
            "text/plain": [
              "<matplotlib.legend.Legend at 0x7efdd7a07490>"
            ]
          },
          "metadata": {},
          "execution_count": 3
        },
        {
          "output_type": "display_data",
          "data": {
            "image/png": "[encoded data removed]",
            "text/plain": [
              "<Figure size 432x288 with 1 Axes>"
            ]
          },
          "metadata": {
            "needs_background": "light"
          }
        }
      ]
    },
    {
      "cell_type": "markdown",
      "metadata": {
        "id": "kUa6v4C3sTm2"
      },
      "source": [
        "3. Change the learning rate to $\\beta=0.3$ and $\\beta=0.8$, repeate the process in (2) and plot the function values. Comment on how the learning rate will affect the gradient descent method."
      ]
    },
    {
      "cell_type": "code",
      "metadata": {
        "id": "rFMmPurtsTm3"
      },
      "source": [
        "# Code goes here\n",
        "hist03 = backtracking(w0, A, b, 50, 0.25, 0.3, 1)\n",
        "hist08 = backtracking(w0, A, b, 50, 0.25, 0.8, 1)"
      ],
      "execution_count": 4,
      "outputs": []
    },
    {
      "cell_type": "code",
      "metadata": {
        "id": "9f2dKmwNsTm3",
        "colab": {
          "base_uri": "https://localhost:8080/",
          "height": 313
        },
        "outputId": "055b455d-c3a8-42a8-ffb0-ddd27b10e046"
      },
      "source": [
        "# Plot the function value each iteration (for different beta)\n",
        "x_axis = np.arange(50)\n",
        "plt.plot(x_axis,hist01['f'])\n",
        "plt.plot(x_axis,hist03['f'])\n",
        "plt.ylabel(\"f(x)\")\n",
        "plt.title(\"batracking line search\")\n",
        "plt.plot(x_axis,hist08['f'])\n",
        "plt.xlabel(\"iteration\")\n",
        "plt.legend(['beta=0.1','beta=0.3','beta=0.8'])"
      ],
      "execution_count": 6,
      "outputs": [
        {
          "output_type": "execute_result",
          "data": {
            "text/plain": [
              "<matplotlib.legend.Legend at 0x7efdd743df90>"
            ]
          },
          "metadata": {},
          "execution_count": 6
        },
        {
          "output_type": "display_data",
          "data": {
            "image/png": "[encoded data removed]",
            "text/plain": [
              "<Figure size 432x288 with 1 Axes>"
            ]
          },
          "metadata": {
            "needs_background": "light"
          }
        }
      ]
    }
  ]
}